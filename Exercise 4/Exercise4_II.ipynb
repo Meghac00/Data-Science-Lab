{
 "cells": [
  {
   "cell_type": "code",
   "execution_count": 2,
   "id": "7b78f9fe",
   "metadata": {},
   "outputs": [
    {
     "name": "stdout",
     "output_type": "stream",
     "text": [
      "     Name  Age University\n",
      "0  Sruthi   23         ku\n",
      "1     Ali   22        ktu\n"
     ]
    }
   ],
   "source": [
    "import pandas as pd\n",
    "details= {\n",
    "    'Name' : ['Sruthi', 'Ali', 'Alen', 'Megha'],\n",
    "    'Age' : [23, 22, 21, 20],\n",
    "    'University' : ['ku', 'ktu', 'cusat', 'mg']\n",
    "}\n",
    "df=pd.DataFrame(details)\n",
    "df1 = df.head(2)\n",
    "print(df1)\n"
   ]
  },
  {
   "cell_type": "code",
   "execution_count": 3,
   "id": "0f0e62be",
   "metadata": {},
   "outputs": [
    {
     "name": "stdout",
     "output_type": "stream",
     "text": [
      "    Name Occupation  Salary\n",
      "0  Sundu    Teacher   20000\n",
      "1   Alen   Engineer   34000\n",
      "2  Yaduk   Engineer   45000\n",
      "3  Navya    Teacher   45555\n",
      "Occupation\n",
      "Engineer    39500.0\n",
      "Teacher     32777.5\n",
      "Name: Salary, dtype: float64\n"
     ]
    }
   ],
   "source": [
    "import pandas as pd\n",
    "data= {\n",
    "    'Name' : ['Sundu','Alen','Yaduk','Navya'],\n",
    "    'Occupation':['Teacher','Engineer','Engineer','Teacher'],\n",
    "    'Salary':[20000,34000,45000,45555]\n",
    "}\n",
    "df=pd.DataFrame(data)\n",
    "print(df)\n",
    "Salary_average= df.groupby('Occupation')['Salary'].mean() \n",
    "\n",
    "print(Salary_average)"
   ]
  },
  {
   "cell_type": "code",
   "execution_count": 4,
   "id": "a6f04bd5",
   "metadata": {},
   "outputs": [
    {
     "name": "stdout",
     "output_type": "stream",
     "text": [
      "     Name  Id  Phone Number\n",
      "0   Megha   1           NaN\n",
      "1  Anusha   2    90742767.0\n",
      "2     Ali   3   673378732.0\n",
      "3      KK   4           NaN\n",
      "     Name  Id  Phone Number\n",
      "0   Megha   1           0.0\n",
      "1  Anusha   2    90742767.0\n",
      "2     Ali   3   673378732.0\n",
      "3      KK   4           0.0\n"
     ]
    }
   ],
   "source": [
    "import pandas as pd\n",
    "import numpy as np\n",
    "data= {\n",
    "    'Name' : ['Megha','Anusha','Ali','KK'],\n",
    "    'Id' : [1,2,3,4],\n",
    "    'Phone Number':[np.nan,90742767,673378732,np.nan]\n",
    "}\n",
    "df=pd.DataFrame(data)\n",
    "print(df) \n",
    "\n",
    "\n",
    "\n",
    "df_nullfill = df.fillna(0)\n",
    "\n",
    "print(df_nullfill)"
   ]
  },
  {
   "cell_type": "code",
   "execution_count": 5,
   "id": "d9df366d",
   "metadata": {},
   "outputs": [
    {
     "name": "stdout",
     "output_type": "stream",
     "text": [
      "       cname   profit\n",
      "0      Wipro  1000000\n",
      "1  Cognizant  2000000\n",
      "2    Mphasis   -31110\n",
      "3        UST   -43000\n",
      "\n",
      "\n",
      "       cname  profit\n",
      "0      Wipro    True\n",
      "1  Cognizant    True\n",
      "2    Mphasis   False\n",
      "3        UST   False\n"
     ]
    }
   ],
   "source": [
    "\n",
    "\n",
    "import pandas as pd\n",
    "import numpy as np\n",
    "data= {\n",
    "    'cname' : ['Wipro','Cognizant','Mphasis','UST'],\n",
    "    'profit' : [1000000,2000000,-31110,-43000]\n",
    "}\n",
    "df=pd.DataFrame(data)\n",
    "print(df)\n",
    "print()\n",
    "print()\n",
    "df['profit'] = df['profit'].apply(lambda x:x>0)\n",
    "print(df)\n",
    "\n"
   ]
  },
  {
   "cell_type": "code",
   "execution_count": 6,
   "id": "985378e0",
   "metadata": {},
   "outputs": [
    {
     "name": "stdout",
     "output_type": "stream",
     "text": [
      "    eid  ename  stipend\n",
      "0  1001    Anu    10000\n",
      "1  1002   Anju    20000\n",
      "2  1003  Anand    13000\n",
      "3  1004    Ali    15000\n",
      "\n",
      "\n",
      "    eid     designation\n",
      "0  1001  senior manager\n",
      "1  1002   sales manager\n",
      "2  1003         manager\n",
      "3  1004           clerk\n",
      "\n",
      "\n",
      "    eid  ename  stipend     designation\n",
      "0  1001    Anu    10000  senior manager\n",
      "1  1002   Anju    20000   sales manager\n",
      "2  1003  Anand    13000         manager\n",
      "3  1004    Ali    15000           clerk\n"
     ]
    }
   ],
   "source": [
    "import pandas as pd\n",
    "import numpy as np\n",
    "data1= {\n",
    "    'eid' : [1001,1002,1003,1004],\n",
    "    'ename' : ['Anu','Anju','Anand','Ali'],\n",
    "    'stipend' : [10000,20000,13000,15000]\n",
    "}\n",
    "data2= {\n",
    "    'eid' : [1001,1002,1003,1004],\n",
    "    'designation' : ['senior manager','sales manager','manager','clerk']\n",
    "}\n",
    "df1=pd.DataFrame(data1)\n",
    "df2=pd.DataFrame(data2)\n",
    "print(df1)\n",
    "print()\n",
    "print()\n",
    "print(df2)\n",
    "print()\n",
    "print()\n",
    "dataframe = pd.merge(df1, df2, how = 'inner', on = 'eid')\n",
    "print(dataframe)"
   ]
  },
  {
   "cell_type": "code",
   "execution_count": null,
   "id": "4d4b0ea6",
   "metadata": {},
   "outputs": [],
   "source": []
  }
 ],
 "metadata": {
  "kernelspec": {
   "display_name": "Python 3 (ipykernel)",
   "language": "python",
   "name": "python3"
  },
  "language_info": {
   "codemirror_mode": {
    "name": "ipython",
    "version": 3
   },
   "file_extension": ".py",
   "mimetype": "text/x-python",
   "name": "python",
   "nbconvert_exporter": "python",
   "pygments_lexer": "ipython3",
   "version": "3.9.7"
  }
 },
 "nbformat": 4,
 "nbformat_minor": 5
}
